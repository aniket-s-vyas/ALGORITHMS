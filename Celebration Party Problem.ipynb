{
 "cells": [
  {
   "cell_type": "code",
   "execution_count": 1,
   "metadata": {},
   "outputs": [],
   "source": [
    "import unittest\n",
    "\n",
    "class Testcases(unittest.TestCase):\n",
    "\n",
    "    def test_mingroups_1(self):\n",
    "        '''\n",
    "        Tests if students are correctly split into groups\n",
    "        '''\n",
    "        x=[2.5,3,4.5,8,9,21]\n",
    "        no_of_students=6\n",
    "        age_gap=2\n",
    "        \n",
    "        expected_output= 3\n",
    "        self.assertEqual(mingroups(x,no_of_students,age_gap), expected_output, \"Output Should be {}\".format(expected_output))\n",
    "\n",
    "    def test_mingroups_2(self):\n",
    "        '''\n",
    "        Tests if students are seperated into n groups if the age gap of n students between any two is not within the threshold\n",
    "        '''\n",
    "        x=[2.5,3,4.5]\n",
    "        no_of_students=3\n",
    "        age_gap=0.4\n",
    "        \n",
    "        expected_output= 3\n",
    "        self.assertEqual(mingroups(x,no_of_students,age_gap), expected_output, \"Output Should be {}\".format(expected_output))\n",
    "\n",
    "    def test_mingroups_3(self):\n",
    "        '''\n",
    "        Tests if students are seperated into n groups if the age gap of n students between any two is within the threshold\n",
    "        '''\n",
    "        x=[2.5,3,4.5]\n",
    "        no_of_students=3\n",
    "        age_gap=2\n",
    "        \n",
    "        expected_output= 1\n",
    "        self.assertEqual(mingroups(x,no_of_students,age_gap), expected_output, \"Output Should be {}\".format(expected_output))\n",
    "        \n",
    "        \n",
    "    def test_mingroups_4(self):\n",
    "        '''\n",
    "        Tests sorting of the input age array\n",
    "        '''\n",
    "        x=[2.5,3,4.5,8,9,21,15]\n",
    "        no_of_students=7\n",
    "        age_gap=2\n",
    "        \n",
    "        expected_output= 4\n",
    "        self.assertEqual(mingroups(x,no_of_students,age_gap), expected_output, \"Output Should be {}\".format(expected_output))\n",
    "        "
   ]
  },
  {
   "cell_type": "code",
   "execution_count": 2,
   "metadata": {},
   "outputs": [],
   "source": [
    "def mingroups(age_of_students: list,\n",
    "              no_of_students: int, \n",
    "             max_age_gap: float) -> int :\n",
    "    '''\n",
    "    Function to calculate the minimum number of groups required to group students such that the difference\n",
    "    in age of any two members within a group is atmost equal to the parameter max_age_gap\n",
    "    \n",
    "    :param age_of_students : list of age of each individual student\n",
    "    :param no_of_students: total number of students\n",
    "    :param max_age_gap : the maximum difference in age of students witin a group\n",
    "\n",
    "    \n",
    "    :return no_of_groups : minimum number of groups that can be formed such that the difference between any two members\n",
    "                           in a group is less than max_age_gap parameter\n",
    "    '''\n",
    "    \n",
    "    age_of_students=sorted(age_of_students)\n",
    "    \n",
    "    left_index=0\n",
    "    current_student_position=0\n",
    "    no_of_groups=0\n",
    "    \n",
    "    while current_student_position <= (no_of_students-1):\n",
    "        \n",
    "        \n",
    "        left_index=current_student_position\n",
    "        \n",
    "        \n",
    "        \n",
    "        while ((age_of_students[current_student_position]-age_of_students[left_index] <= max_age_gap)):\n",
    "                current_student_position=current_student_position+1\n",
    "                if current_student_position==no_of_students:\n",
    "                    break\n",
    "        \n",
    "        no_of_groups=no_of_groups+1\n",
    "        \n",
    "    \n",
    "    return no_of_groups\n",
    "    "
   ]
  },
  {
   "cell_type": "code",
   "execution_count": 3,
   "metadata": {},
   "outputs": [
    {
     "name": "stderr",
     "output_type": "stream",
     "text": [
      "test_mingroups_1 (__main__.Testcases) ... ok\n",
      "test_mingroups_2 (__main__.Testcases) ... ok\n",
      "test_mingroups_3 (__main__.Testcases) ... ok\n",
      "test_mingroups_4 (__main__.Testcases) ... ok\n",
      "\n",
      "----------------------------------------------------------------------\n",
      "Ran 4 tests in 0.016s\n",
      "\n",
      "OK\n"
     ]
    },
    {
     "data": {
      "text/plain": [
       "<unittest.main.TestProgram at 0x5000790>"
      ]
     },
     "execution_count": 3,
     "metadata": {},
     "output_type": "execute_result"
    }
   ],
   "source": [
    "unittest.main(argv=[''], verbosity=2, exit=False)"
   ]
  }
 ],
 "metadata": {
  "kernelspec": {
   "display_name": "Python 3",
   "language": "python",
   "name": "python3"
  },
  "language_info": {
   "codemirror_mode": {
    "name": "ipython",
    "version": 3
   },
   "file_extension": ".py",
   "mimetype": "text/x-python",
   "name": "python",
   "nbconvert_exporter": "python",
   "pygments_lexer": "ipython3",
   "version": "3.7.6"
  }
 },
 "nbformat": 4,
 "nbformat_minor": 4
}
