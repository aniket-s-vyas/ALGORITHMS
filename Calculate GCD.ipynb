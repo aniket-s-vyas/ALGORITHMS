{
 "cells": [
  {
   "cell_type": "code",
   "execution_count": 22,
   "metadata": {},
   "outputs": [],
   "source": [
    "import unittest\n",
    "\n",
    "class Testcases(unittest.TestCase):\n",
    "     \n",
    "    def test_gcd_naive(self):\n",
    "        a=3918848\n",
    "        b=1653264\n",
    "        expected_output= 61232\n",
    "        self.assertEqual(gcd_naive(a,b), expected_output, \"Output Should be {}\".format(expected_output))"
   ]
  },
  {
   "cell_type": "code",
   "execution_count": 23,
   "metadata": {},
   "outputs": [],
   "source": [
    "def gcd_naive(n1,n2):\n",
    "    \"\"\"\n",
    "    Function to find gcd of two positive numbers\n",
    "    \n",
    "    param: n1- First number\n",
    "    param: n2- Second number\n",
    "    \n",
    "    return: GCD of the two numbers\n",
    "    \"\"\"\n",
    "    \n",
    "    divisor=1\n",
    "    for i in range(1,min(n1,n2)+1):\n",
    "        if n1%i==0 and n2%i==0 :\n",
    "            divisor=i\n",
    "    return divisor"
   ]
  },
  {
   "cell_type": "code",
   "execution_count": 24,
   "metadata": {},
   "outputs": [
    {
     "name": "stderr",
     "output_type": "stream",
     "text": [
      "test_gcd_naive (__main__.Testcases) ... ok\n",
      "\n",
      "----------------------------------------------------------------------\n",
      "Ran 1 test in 0.500s\n",
      "\n",
      "OK\n"
     ]
    },
    {
     "data": {
      "text/plain": [
       "<unittest.main.TestProgram at 0x4717a70>"
      ]
     },
     "execution_count": 24,
     "metadata": {},
     "output_type": "execute_result"
    }
   ],
   "source": [
    "unittest.main(argv=[''], verbosity=2, exit=False)"
   ]
  },
  {
   "cell_type": "code",
   "execution_count": 25,
   "metadata": {},
   "outputs": [],
   "source": [
    "import unittest\n",
    "\n",
    "class Testcases(unittest.TestCase):\n",
    "    \n",
    "    def test_gcd_euclid(self):\n",
    "        a=3918848\n",
    "        b=1653264\n",
    "        expected_output= 61232\n",
    "        self.assertEqual(gcd_euclid(a,b), expected_output, \"Output Should be {}\".format(expected_output))"
   ]
  },
  {
   "cell_type": "code",
   "execution_count": 26,
   "metadata": {},
   "outputs": [],
   "source": [
    "def gcd_euclid(n1,n2):\n",
    "    \"\"\"\n",
    "    Function to find gcd of two positive numbers\n",
    "    \n",
    "    param: n1- First number\n",
    "    param: n2- Second number\n",
    "    \n",
    "    return: GCD of the two numbers\n",
    "    \"\"\"\n",
    "    if n2>n1:\n",
    "        temp=n2%n1\n",
    "        if temp==0:\n",
    "            return n1\n",
    "        else:\n",
    "            n2=n1\n",
    "            n1=temp\n",
    "            return gcd(n1,n2)\n",
    "            \n",
    "    else:\n",
    "        temp=n1%n2\n",
    "        if temp==0:\n",
    "            return n2\n",
    "        else:\n",
    "            n1=n2\n",
    "            n2=temp\n",
    "            return gcd(n1,n2)"
   ]
  },
  {
   "cell_type": "code",
   "execution_count": 27,
   "metadata": {},
   "outputs": [
    {
     "name": "stderr",
     "output_type": "stream",
     "text": [
      "test_gcd_euclid (__main__.Testcases) ... ok\n",
      "\n",
      "----------------------------------------------------------------------\n",
      "Ran 1 test in 0.193s\n",
      "\n",
      "OK\n"
     ]
    },
    {
     "data": {
      "text/plain": [
       "<unittest.main.TestProgram at 0x47275f0>"
      ]
     },
     "execution_count": 27,
     "metadata": {},
     "output_type": "execute_result"
    }
   ],
   "source": [
    "unittest.main(argv=[''], verbosity=2, exit=False)"
   ]
  }
 ],
 "metadata": {
  "kernelspec": {
   "display_name": "Python 3",
   "language": "python",
   "name": "python3"
  },
  "language_info": {
   "codemirror_mode": {
    "name": "ipython",
    "version": 3
   },
   "file_extension": ".py",
   "mimetype": "text/x-python",
   "name": "python",
   "nbconvert_exporter": "python",
   "pygments_lexer": "ipython3",
   "version": "3.7.6"
  }
 },
 "nbformat": 4,
 "nbformat_minor": 4
}
