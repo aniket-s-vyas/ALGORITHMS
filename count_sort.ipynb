{
 "cells": [
  {
   "cell_type": "code",
   "execution_count": 20,
   "metadata": {},
   "outputs": [],
   "source": [
    "import unittest\n",
    "\n",
    "class Testcases(unittest.TestCase):\n",
    "    \n",
    "    def test_count_sort_SingleElement(self):\n",
    "        '''\n",
    "        Tests if the input list with single element is correctly sorted\n",
    "        '''\n",
    "        input_list = [8]\n",
    "        m=8\n",
    "        \n",
    "        expected_output=[8]\n",
    "        \n",
    "        self.assertEqual(count_sort(input_list,m), expected_output, \"Output Should be {}\".format(expected_output))\n",
    "\n",
    "        \n",
    "    def test_count_sort_TwoElement(self):\n",
    "        '''\n",
    "        Tests if the input list with two elements is correctly sorted\n",
    "        '''\n",
    "        input_list = [8,2]\n",
    "        m=8\n",
    "        \n",
    "        expected_output=[2,8]\n",
    "        \n",
    "        self.assertEqual(count_sort(input_list,m), expected_output, \"Output Should be {}\".format(expected_output))\n",
    "        \n",
    "    def test_count_sort_MultipleElements(self):\n",
    "        '''\n",
    "        Tests if the input list with multiple elements is correctly sorted\n",
    "        '''\n",
    "        input_list = [8,4,2,5,2,5,6,7]\n",
    "        m = 8\n",
    "        \n",
    "        expected_output=[2,2,4,5,5,6,7,8]\n",
    "        \n",
    "        self.assertEqual(count_sort(input_list,m), expected_output, \"Output Should be {}\".format(expected_output))\n"
   ]
  },
  {
   "cell_type": "code",
   "execution_count": 21,
   "metadata": {},
   "outputs": [],
   "source": [
    "def count_sort(input_list : list(),\n",
    "              m : int):\n",
    "    \"\"\"\n",
    "    Function to sort elements of a list using merge sort algorithm\n",
    "    \n",
    "    :param input_list : input list of elements to be sorted\n",
    "    :param m: maximum natural number present in input list\n",
    "    \n",
    "    :return : sorted list\n",
    "    \"\"\"\n",
    "    \n",
    "    count_element=[0]*(m)\n",
    "    # Create\n",
    "    for element in input_list:\n",
    "        count_element[element-1] +=1\n",
    "    sorted_list=[]\n",
    "    \n",
    "    for i in range(m):\n",
    "            sorted_list=sorted_list+[i+1]*count_element[i]\n",
    "    \n",
    "    return sorted_list\n",
    "    "
   ]
  },
  {
   "cell_type": "code",
   "execution_count": 22,
   "metadata": {},
   "outputs": [
    {
     "name": "stderr",
     "output_type": "stream",
     "text": [
      "test_count_sort_MultipleElements (__main__.Testcases) ... ok\n",
      "test_count_sort_SingleElement (__main__.Testcases) ... ok\n",
      "test_count_sort_TwoElement (__main__.Testcases) ... ok\n",
      "\n",
      "----------------------------------------------------------------------\n",
      "Ran 3 tests in 0.005s\n",
      "\n",
      "OK\n"
     ]
    },
    {
     "data": {
      "text/plain": [
       "<unittest.main.TestProgram at 0x59b0610>"
      ]
     },
     "execution_count": 22,
     "metadata": {},
     "output_type": "execute_result"
    }
   ],
   "source": [
    "unittest.main(argv=[''], verbosity=2, exit=False)"
   ]
  },
  {
   "cell_type": "code",
   "execution_count": 16,
   "metadata": {},
   "outputs": [
    {
     "data": {
      "text/plain": [
       "[1, 2, 3, 5, 1]"
      ]
     },
     "execution_count": 16,
     "metadata": {},
     "output_type": "execute_result"
    }
   ],
   "source": []
  }
 ],
 "metadata": {
  "kernelspec": {
   "display_name": "Python 3",
   "language": "python",
   "name": "python3"
  },
  "language_info": {
   "codemirror_mode": {
    "name": "ipython",
    "version": 3
   },
   "file_extension": ".py",
   "mimetype": "text/x-python",
   "name": "python",
   "nbconvert_exporter": "python",
   "pygments_lexer": "ipython3",
   "version": "3.7.6"
  }
 },
 "nbformat": 4,
 "nbformat_minor": 4
}
