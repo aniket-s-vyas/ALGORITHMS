{
 "cells": [
  {
   "cell_type": "code",
   "execution_count": 11,
   "metadata": {},
   "outputs": [],
   "source": [
    "import unittest\n",
    "\n",
    "class TestSum(unittest.TestCase):\n",
    "\n",
    "    def test_max_second_mac(self):\n",
    "        l=[6,7,8,10,20,40]\n",
    "        left_index=0\n",
    "        right_index=len(l)-1\n",
    "        expected_output=(40,20)\n",
    "        self.assertEqual(max_second_max(l,left_index,right_index), expected_output, \"Should be ({},{})\".format(expected_output[0],expected_output[1]))\n",
    "    \n",
    "    def test_max_product(self):\n",
    "        l=[5,6,7,10,20,85,90]\n",
    "        expected_output=7650\n",
    "        self.assertEqual(max_product(l), expected_output, \"Should be {}\".format(expected_output))"
   ]
  },
  {
   "cell_type": "code",
   "execution_count": 2,
   "metadata": {},
   "outputs": [],
   "source": [
    "def max_second_max(l: list,\n",
    "              left_index: int,\n",
    "              right_index:int) -> tuple :\n",
    "    \n",
    "    if right_index<=left_index:\n",
    "        return l[left_index],0\n",
    "    \n",
    "    #Find the middle index to do a divide and conqure\n",
    "    mid_index=(left_index+right_index)//2\n",
    "    \n",
    "    max_left,second_max_left=max_second_max(l,left_index,mid_index)\n",
    "    max_right,second_max_right=max_second_max(l,mid_index+1,right_index)\n",
    "    \n",
    "    if max_left>max_right:\n",
    "        if second_max_left>max_right:\n",
    "            return max_left,second_max_left\n",
    "        else:\n",
    "            return max_left,max_right\n",
    "    else:\n",
    "        if second_max_right>max_left:\n",
    "            return max_right,second_max_right\n",
    "        else:\n",
    "            return max_right,max_left"
   ]
  },
  {
   "cell_type": "code",
   "execution_count": 3,
   "metadata": {},
   "outputs": [],
   "source": [
    "def max_product(l:list) -> int:\n",
    "    max_num,second_max_num=max_second_max(l,0,len(l)-1)\n",
    "    return max_num*second_max_num"
   ]
  },
  {
   "cell_type": "code",
   "execution_count": 12,
   "metadata": {},
   "outputs": [
    {
     "name": "stderr",
     "output_type": "stream",
     "text": [
      "test_max_product (__main__.TestSum) ... ok\n",
      "test_max_second_mac (__main__.TestSum) ... ok\n",
      "\n",
      "----------------------------------------------------------------------\n",
      "Ran 2 tests in 0.003s\n",
      "\n",
      "OK\n"
     ]
    },
    {
     "data": {
      "text/plain": [
       "<unittest.main.TestProgram at 0x567a7b0>"
      ]
     },
     "execution_count": 12,
     "metadata": {},
     "output_type": "execute_result"
    }
   ],
   "source": [
    "unittest.main(argv=[''], verbosity=2, exit=False)"
   ]
  }
 ],
 "metadata": {
  "kernelspec": {
   "display_name": "Python 3",
   "language": "python",
   "name": "python3"
  },
  "language_info": {
   "codemirror_mode": {
    "name": "ipython",
    "version": 3
   },
   "file_extension": ".py",
   "mimetype": "text/x-python",
   "name": "python",
   "nbconvert_exporter": "python",
   "pygments_lexer": "ipython3",
   "version": "3.7.6"
  }
 },
 "nbformat": 4,
 "nbformat_minor": 4
}
