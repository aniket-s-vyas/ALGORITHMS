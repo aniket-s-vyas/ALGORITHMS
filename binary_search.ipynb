{
 "cells": [
  {
   "cell_type": "code",
   "execution_count": 1,
   "metadata": {},
   "outputs": [],
   "source": [
    "import unittest\n",
    "\n",
    "class Testcases(unittest.TestCase):\n",
    "\n",
    "    def test_binary_search_CheckElementPosition(self):\n",
    "        '''\n",
    "        Tests if the position of an element in sorted list is correctly returned\n",
    "        '''\n",
    "        sorted_list = [1,2,3,4,5,6,7,8,9,10]\n",
    "        left_index=0\n",
    "        right_index=9\n",
    "        number = 7\n",
    "        \n",
    "        expected_output=6\n",
    "        \n",
    "        self.assertEqual(binary_search(sorted_list,left_index,right_index,number), expected_output, \"Output Should be {}\".format(expected_output))\n",
    "   \n",
    "    def test_binary_search_FloatingNumber(self):\n",
    "        '''\n",
    "        Tests if the position of an element in sorted list is correctly returned\n",
    "        '''\n",
    "        sorted_list = [1,2,3,4,5,5.5,6,7,8,10]\n",
    "        left_index=0\n",
    "        right_index=9\n",
    "        number = 5.5\n",
    "        \n",
    "        expected_output=5\n",
    "        \n",
    "        self.assertEqual(binary_search(sorted_list,left_index,right_index,number), expected_output, \"Output Should be {}\".format(expected_output))\n",
    "        \n",
    "        \n",
    "    def test_binary_search_CheckException(self):\n",
    "        '''\n",
    "        Tests if the position of an element in sorted list is correctly returned\n",
    "        '''\n",
    "        sorted_list = [1,2,3,4,5,6,7,8,9,10]\n",
    "        left_index=0\n",
    "        right_index=9\n",
    "        number = 5.5\n",
    "        \n",
    "        with self.assertRaises(Exception):\n",
    "            binary_search(sorted_list,left_index,right_index,number)"
   ]
  },
  {
   "cell_type": "code",
   "execution_count": 2,
   "metadata": {},
   "outputs": [],
   "source": [
    "def binary_search(sorted_list: list(),\n",
    "                  left : int,\n",
    "                  right : int,\n",
    "                  search_element: float) -> int:\n",
    "    \"\"\"\n",
    "    Function to search input element in a sorted list using binary search technique \n",
    "    \n",
    "    :param sorted_list: input sorted list\n",
    "    :param left: left index of the list\n",
    "    :param right: right index of the list\n",
    "    :param search_element: element whose position is to be searched\n",
    "    \n",
    "    :return : position of the search_element in the input list\n",
    "    \"\"\"\n",
    "    \n",
    "    if left > right:\n",
    "        raise Exception(\"Element not present in the input list\")\n",
    "        \n",
    "    mid = (left+right)//2\n",
    "    \n",
    "    if sorted_list[mid] == search_element:\n",
    "        return mid\n",
    "    elif sorted_list[mid] > search_element:\n",
    "        return binary_search(sorted_list,left,mid - 1,search_element)\n",
    "    else:\n",
    "        return binary_search(sorted_list,mid + 1,right,search_element)\n",
    "    "
   ]
  },
  {
   "cell_type": "code",
   "execution_count": 3,
   "metadata": {},
   "outputs": [
    {
     "name": "stderr",
     "output_type": "stream",
     "text": [
      "test_binary_search_CheckElementPosition (__main__.Testcases) ... ok\n",
      "test_binary_search_CheckException (__main__.Testcases) ... ok\n",
      "test_binary_search_FloatingNumber (__main__.Testcases) ... ok\n",
      "\n",
      "----------------------------------------------------------------------\n",
      "Ran 3 tests in 0.017s\n",
      "\n",
      "OK\n"
     ]
    },
    {
     "data": {
      "text/plain": [
       "<unittest.main.TestProgram at 0x5aa14b0>"
      ]
     },
     "execution_count": 3,
     "metadata": {},
     "output_type": "execute_result"
    }
   ],
   "source": [
    "unittest.main(argv=[''], verbosity=2, exit=False)"
   ]
  }
 ],
 "metadata": {
  "kernelspec": {
   "display_name": "Python 3",
   "language": "python",
   "name": "python3"
  },
  "language_info": {
   "codemirror_mode": {
    "name": "ipython",
    "version": 3
   },
   "file_extension": ".py",
   "mimetype": "text/x-python",
   "name": "python",
   "nbconvert_exporter": "python",
   "pygments_lexer": "ipython3",
   "version": "3.7.6"
  }
 },
 "nbformat": 4,
 "nbformat_minor": 4
}
