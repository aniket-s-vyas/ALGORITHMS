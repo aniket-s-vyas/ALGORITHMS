{
 "cells": [
  {
   "cell_type": "code",
   "execution_count": 36,
   "metadata": {},
   "outputs": [],
   "source": [
    "import unittest\n",
    "\n",
    "class Testcases(unittest.TestCase):\n",
    "    \n",
    "    \n",
    "    def test_insertion_sort_EmptyElement(self):\n",
    "        '''\n",
    "        Tests if the input list with no element is correctly sorted\n",
    "        '''\n",
    "        input_list = []\n",
    "        \n",
    "        expected_output = []\n",
    "        \n",
    "        self.assertEqual(insertion_sort(input_list), expected_output, \"Output Should be {}\".format(expected_output))\n",
    "    \n",
    "    def test_insertion_sort_SingleElement(self):\n",
    "        '''\n",
    "        Tests if the input list with single element is correctly sorted\n",
    "        '''\n",
    "        input_list = [8]\n",
    "        \n",
    "        expected_output = [8]\n",
    "        \n",
    "        self.assertEqual(insertion_sort(input_list), expected_output, \"Output Should be {}\".format(expected_output))\n",
    "\n",
    "        \n",
    "    def test_insertion_sort_TwoElement(self):\n",
    "        '''\n",
    "        Tests if the input list with two elements is correctly sorted\n",
    "        '''\n",
    "        input_list = [8,2]\n",
    "        \n",
    "        expected_output = [2,8]\n",
    "        \n",
    "        self.assertEqual(insertion_sort(input_list), expected_output, \"Output Should be {}\".format(expected_output))\n",
    "\n",
    "    def test_insertion_sort_ThreeElements(self):\n",
    "        '''\n",
    "        Tests if the input list with three elements is correctly sorted\n",
    "        '''\n",
    "        input_list = [8,2,4]\n",
    "        \n",
    "        expected_output = [2,4,8]\n",
    "        \n",
    "        self.assertEqual(insertion_sort(input_list), expected_output, \"Output Should be {}\".format(expected_output))\n",
    "        \n",
    "        \n",
    "    def test_insertion_sort_MultipleElements(self):\n",
    "        '''\n",
    "        Tests if the input list with multiple elements is correctly sorted\n",
    "        '''\n",
    "        input_list = [8,4,2,5,2,2.5,6,0.7]\n",
    "        \n",
    "        expected_output = [0.7,2,2,2.5,4,5,6,8]\n",
    "        \n",
    "        self.assertEqual(insertion_sort(input_list), expected_output, \"Output Should be {}\".format(expected_output))\n"
   ]
  },
  {
   "cell_type": "code",
   "execution_count": 19,
   "metadata": {},
   "outputs": [],
   "source": [
    "def insertion_sort(input_list: list()) -> list():\n",
    "    \"\"\"\n",
    "    Function to sort a list using insertion sort algorithm\n",
    "    \n",
    "    :param input_list: input list of elements to be sorted\n",
    "    \n",
    "    :return : sorted version of the input list\n",
    "    \"\"\"\n",
    "    \n",
    "    number_of_elements = len(input_list)\n",
    "    \n",
    "    for i in range(number_of_elements):\n",
    "        \n",
    "        key = input_list[i]\n",
    "        \n",
    "        j = i-1\n",
    "        \n",
    "        while ((j >= 0) & (input_list[j] >= key)):\n",
    "            \n",
    "            input_list[j+1] = input_list[j] \n",
    "            j = j - 1\n",
    "        \n",
    "        input_list[j+1] = key\n",
    "                \n",
    "    return input_list\n",
    "   "
   ]
  },
  {
   "cell_type": "code",
   "execution_count": 32,
   "metadata": {},
   "outputs": [],
   "source": [
    "def insertion_sort(input_list: list()) -> list():\n",
    "    \"\"\"\n",
    "    Function to sort a list using insertion sort algorithm by pushing the element\n",
    "    to its correct position\n",
    "    \n",
    "    :param input_list: input list of elements to be sorted\n",
    "    \n",
    "    :return : sorted version of the input list\n",
    "    \"\"\"\n",
    "    \n",
    "    number_of_elements = len(input_list)\n",
    "    \n",
    "    for i in range(number_of_elements):\n",
    "        \n",
    "        index_counter = i\n",
    "        \n",
    "        for j in range(i-1,-1,-1):\n",
    "        \n",
    "            if input_list[j] <= input_list[index_counter]:\n",
    "                break\n",
    "                \n",
    "            else:\n",
    "                \n",
    "                temp = input_list[index_counter]\n",
    "                input_list[index_counter] = input_list[j]\n",
    "                input_list[j] = temp\n",
    "                \n",
    "                index_counter = index_counter - 1\n",
    "                \n",
    "    return input_list"
   ]
  },
  {
   "cell_type": "code",
   "execution_count": 37,
   "metadata": {},
   "outputs": [
    {
     "name": "stderr",
     "output_type": "stream",
     "text": [
      "test_insertion_sort_EmptyElement (__main__.Testcases) ... ok\n",
      "test_insertion_sort_MultipleElements (__main__.Testcases) ... ok\n",
      "test_insertion_sort_SingleElement (__main__.Testcases) ... ok\n",
      "test_insertion_sort_ThreeElements (__main__.Testcases) ... ok\n",
      "test_insertion_sort_TwoElement (__main__.Testcases) ... ok\n",
      "\n",
      "----------------------------------------------------------------------\n",
      "Ran 5 tests in 0.008s\n",
      "\n",
      "OK\n"
     ]
    },
    {
     "data": {
      "text/plain": [
       "<unittest.main.TestProgram at 0x3f698b0>"
      ]
     },
     "execution_count": 37,
     "metadata": {},
     "output_type": "execute_result"
    }
   ],
   "source": [
    "unittest.main(argv=[''], verbosity=2, exit=False)"
   ]
  }
 ],
 "metadata": {
  "kernelspec": {
   "display_name": "Python 3",
   "language": "python",
   "name": "python3"
  },
  "language_info": {
   "codemirror_mode": {
    "name": "ipython",
    "version": 3
   },
   "file_extension": ".py",
   "mimetype": "text/x-python",
   "name": "python",
   "nbconvert_exporter": "python",
   "pygments_lexer": "ipython3",
   "version": "3.7.6"
  }
 },
 "nbformat": 4,
 "nbformat_minor": 4
}
