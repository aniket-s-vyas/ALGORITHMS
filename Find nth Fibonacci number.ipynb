{
 "cells": [
  {
   "cell_type": "code",
   "execution_count": 110,
   "metadata": {},
   "outputs": [],
   "source": [
    "import unittest\n",
    "\n",
    "class Testcases(unittest.TestCase):\n",
    "\n",
    "    def test_nth_fibonacci_number_negative_n(self):\n",
    "        n=-2\n",
    "        expected_output='Error'\n",
    "        with self.assertRaises(AssertionError):\n",
    "            nth_fibonacci_number(n)\n",
    "\n",
    "    \n",
    "    def test_nth_fibonacci_number_positive_n(self):\n",
    "        n=199\n",
    "        expected_output= 173402521172797813159685037284371942044301\n",
    "        self.assertEqual(nth_fibonacci_number(n), expected_output, \"Output Should be {}\".format(expected_output))\n"
   ]
  },
  {
   "cell_type": "code",
   "execution_count": 98,
   "metadata": {},
   "outputs": [],
   "source": [
    "# Following is a slow algorithm as the recurrsion causes multiple fibonacci numbers to be repeatedly calculated\n",
    "\n",
    "def nth_fibonacci_number(n: int) -> int:\n",
    "    '''\n",
    "    param n: the position of fibonacci number to be computed\n",
    "    \n",
    "    return : nth fibonai number \n",
    "    \n",
    "    '''\n",
    "    if n<0:\n",
    "        raise AssertionError('Position of fibonacci number to be identified should be greater than equal to 0')\n",
    "    if n<=1:\n",
    "        return n\n",
    "    \n",
    "    else:\n",
    "        return nth_fibonacci_number(n-1)+nth_fibonacci_number(n-2)"
   ]
  },
  {
   "cell_type": "code",
   "execution_count": 111,
   "metadata": {},
   "outputs": [],
   "source": [
    "#This is a efficient algorithm to compute nth fibonacci number as it stores the prev and current fibonacci number\n",
    "# to calculate the next fibonacci number\n",
    "\n",
    "def nth_fibonacci_number(n: int) -> int:\n",
    "    '''\n",
    "    param n: the position of fibonacci number to be computed\n",
    "    \n",
    "    return : nth fibonai number \n",
    "    \n",
    "    '''\n",
    "    if n<0:\n",
    "        raise AssertionError('Position of fibonacci number to be identified should be greater than equal to 0')\n",
    "    if n<=1:\n",
    "        return n\n",
    "    \n",
    "    else:\n",
    "        prev_fibo=0\n",
    "        fibo=1\n",
    "        for i in range(2,n+1):\n",
    "            temp=fibo\n",
    "            fibo=prev_fibo+fibo\n",
    "            prev_fibo=temp\n",
    "        return fibo"
   ]
  },
  {
   "cell_type": "code",
   "execution_count": 112,
   "metadata": {},
   "outputs": [
    {
     "data": {
      "text/plain": [
       "354224848179261915075"
      ]
     },
     "execution_count": 112,
     "metadata": {},
     "output_type": "execute_result"
    }
   ],
   "source": [
    "nth_fibonacci_number(100)"
   ]
  },
  {
   "cell_type": "code",
   "execution_count": 113,
   "metadata": {},
   "outputs": [
    {
     "name": "stderr",
     "output_type": "stream",
     "text": [
      "test_nth_fibonacci_number_negative_n (__main__.Testcases) ... ok\n",
      "test_nth_fibonacci_number_positive_n (__main__.Testcases) ... ok\n",
      "\n",
      "----------------------------------------------------------------------\n",
      "Ran 2 tests in 0.003s\n",
      "\n",
      "OK\n"
     ]
    },
    {
     "data": {
      "text/plain": [
       "<unittest.main.TestProgram at 0x5a36a30>"
      ]
     },
     "execution_count": 113,
     "metadata": {},
     "output_type": "execute_result"
    }
   ],
   "source": [
    "unittest.main(argv=[''], verbosity=2, exit=False)"
   ]
  }
 ],
 "metadata": {
  "kernelspec": {
   "display_name": "Python 3",
   "language": "python",
   "name": "python3"
  },
  "language_info": {
   "codemirror_mode": {
    "name": "ipython",
    "version": 3
   },
   "file_extension": ".py",
   "mimetype": "text/x-python",
   "name": "python",
   "nbconvert_exporter": "python",
   "pygments_lexer": "ipython3",
   "version": "3.7.6"
  }
 },
 "nbformat": 4,
 "nbformat_minor": 4
}
