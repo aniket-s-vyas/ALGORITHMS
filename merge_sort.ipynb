{
 "cells": [
  {
   "cell_type": "code",
   "execution_count": 1,
   "metadata": {},
   "outputs": [],
   "source": [
    "import unittest\n",
    "\n",
    "class Testcases(unittest.TestCase):\n",
    "    \n",
    "    def test_merge_sort_SingleElement(self):\n",
    "        '''\n",
    "        Tests if the input list with single element is correctly sorted\n",
    "        '''\n",
    "        input_list = [8]\n",
    "        \n",
    "        expected_output=[8]\n",
    "        \n",
    "        self.assertEqual(merge_sort(input_list), expected_output, \"Output Should be {}\".format(expected_output))\n",
    "\n",
    "        \n",
    "    def test_merge_sort_TwoElement(self):\n",
    "        '''\n",
    "        Tests if the input list with two elements is correctly sorted\n",
    "        '''\n",
    "        input_list = [8,2]\n",
    "        \n",
    "        expected_output=[2,8]\n",
    "        \n",
    "        self.assertEqual(merge_sort(input_list), expected_output, \"Output Should be {}\".format(expected_output))\n",
    "        \n",
    "    def test_merge_sort_MultipleElements(self):\n",
    "        '''\n",
    "        Tests if the input list with multiple elements is correctly sorted\n",
    "        '''\n",
    "        input_list = [8,4,2,5,2,2.5,6,0.7]\n",
    "        \n",
    "        expected_output=[0.7,2,2,2.5,4,5,6,8]\n",
    "        \n",
    "        self.assertEqual(merge_sort(input_list), expected_output, \"Output Should be {}\".format(expected_output))\n"
   ]
  },
  {
   "cell_type": "code",
   "execution_count": 2,
   "metadata": {},
   "outputs": [],
   "source": [
    "def merge_sort(input_list : list()):\n",
    "    \"\"\"\n",
    "    Function to sort elements of a list using merge sort algorithm\n",
    "    \n",
    "    :param input_list : input list of elements to be sorted\n",
    "    \n",
    "    :return : sorted list\n",
    "    \"\"\"\n",
    "    \n",
    "    number_of_elements = len(input_list)\n",
    "    \n",
    "    if number_of_elements == 1:\n",
    "        return input_list\n",
    "    else:\n",
    "        \n",
    "        mid = number_of_elements//2\n",
    "        \n",
    "        # Divide the input into two parts left and right\n",
    "        left_list = input_list[:mid]\n",
    "        right_list = input_list[mid:]\n",
    "        \n",
    "        # Recurssively sort the two parts\n",
    "        left_list = merge_sort(left_list)\n",
    "        right_list = merge_sort(right_list)\n",
    "        \n",
    "        #Merge the two parts together with merge step\n",
    "        i = j = k = 0\n",
    "        \n",
    "        len_left_list = len(left_list)\n",
    "        len_right_list = len(right_list)\n",
    "        \n",
    "        \n",
    "        while ((i < len_left_list) &\n",
    "               (j < len_right_list)):\n",
    "\n",
    "            if (left_list[i] < right_list[j]):\n",
    "                input_list[k] = left_list[i]\n",
    "                i = i + 1\n",
    "            else:\n",
    "                input_list[k] = right_list[j]\n",
    "                j = j + 1\n",
    "            \n",
    "            k = k + 1\n",
    "\n",
    "        while (i < len_left_list):\n",
    "            input_list[k] = left_list[i]\n",
    "            i = i + 1\n",
    "            k = k + 1\n",
    "        \n",
    "        while (j < len_right_list) :\n",
    "            \n",
    "            input_list[k] = right_list[j]\n",
    "            j = j + 1\n",
    "            k = k + 1\n",
    "            \n",
    "        return input_list"
   ]
  },
  {
   "cell_type": "code",
   "execution_count": 3,
   "metadata": {},
   "outputs": [
    {
     "name": "stderr",
     "output_type": "stream",
     "text": [
      "test_merge_sort_MultipleElements (__main__.Testcases) ... ok\n",
      "test_merge_sort_SingleElement (__main__.Testcases) ... ok\n",
      "test_merge_sort_TwoElement (__main__.Testcases) ... ok\n",
      "\n",
      "----------------------------------------------------------------------\n",
      "Ran 3 tests in 0.016s\n",
      "\n",
      "OK\n"
     ]
    },
    {
     "data": {
      "text/plain": [
       "<unittest.main.TestProgram at 0x53a18b0>"
      ]
     },
     "execution_count": 3,
     "metadata": {},
     "output_type": "execute_result"
    }
   ],
   "source": [
    "unittest.main(argv=[''], verbosity=2, exit=False)"
   ]
  }
 ],
 "metadata": {
  "kernelspec": {
   "display_name": "Python 3",
   "language": "python",
   "name": "python3"
  },
  "language_info": {
   "codemirror_mode": {
    "name": "ipython",
    "version": 3
   },
   "file_extension": ".py",
   "mimetype": "text/x-python",
   "name": "python",
   "nbconvert_exporter": "python",
   "pygments_lexer": "ipython3",
   "version": "3.7.6"
  }
 },
 "nbformat": 4,
 "nbformat_minor": 4
}
