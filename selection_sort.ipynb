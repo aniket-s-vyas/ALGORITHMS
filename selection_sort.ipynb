{
 "cells": [
  {
   "cell_type": "code",
   "execution_count": 1,
   "metadata": {},
   "outputs": [],
   "source": [
    "import unittest\n",
    "\n",
    "class Testcases(unittest.TestCase):\n",
    "\n",
    "    def test_selection_sort_MultipleElements(self):\n",
    "        '''\n",
    "        Tests if the input list with multiple elements is correctly sorted\n",
    "        '''\n",
    "        input_list = [8,4,2,5,2,2.5,6,0.7]\n",
    "        \n",
    "        expected_output=[0.7,2,2,2.5,4,5,6,8]\n",
    "        \n",
    "        self.assertEqual(selection_sort(input_list), expected_output, \"Output Should be {}\".format(expected_output))\n",
    "    \n",
    "    def test_selection_sort_SingleElement(self):\n",
    "        '''\n",
    "        Tests if the input list with single element is correctly sorted\n",
    "        '''\n",
    "        input_list = [8]\n",
    "        \n",
    "        expected_output=[8]\n",
    "        \n",
    "        self.assertEqual(selection_sort(input_list), expected_output, \"Output Should be {}\".format(expected_output))\n",
    "        \n",
    "    def test_selection_sort_NoElement(self):\n",
    "        '''\n",
    "        Tests if an empty input list is correctly sorted\n",
    "        '''\n",
    "        input_list = []\n",
    "        \n",
    "        expected_output=[]\n",
    "        \n",
    "        self.assertEqual(selection_sort(input_list), expected_output, \"Output Should be {}\".format(expected_output))"
   ]
  },
  {
   "cell_type": "code",
   "execution_count": 2,
   "metadata": {},
   "outputs": [],
   "source": [
    "def selection_sort(input_list: list()) -> list():\n",
    "    \"\"\"\n",
    "    Function to sort the input list using selection sort algorithm\n",
    "    \n",
    "    :param input_list: list to be sorted\n",
    "   \n",
    "    :return : sorted version of the input list (inplace)\n",
    "    \"\"\"\n",
    "    \n",
    "    number_of_elements=len(input_list)\n",
    "    \n",
    "    for i in range(number_of_elements):\n",
    "        \n",
    "        # Initialize minimum element position with the current index\n",
    "        min_index = i\n",
    "        \n",
    "        # Identify the position of the minimum element\n",
    "        for j in range(i+1,number_of_elements,1):\n",
    "                if input_list[j] < input_list[min_index]:\n",
    "                    min_index = j\n",
    "        \n",
    "        # Swap the element on the current index with min element \n",
    "        temp = input_list[i]\n",
    "        input_list[i] = input_list[min_index]\n",
    "        input_list[min_index] = temp\n",
    "        \n",
    "    return input_list"
   ]
  },
  {
   "cell_type": "code",
   "execution_count": 3,
   "metadata": {},
   "outputs": [
    {
     "name": "stderr",
     "output_type": "stream",
     "text": [
      "test_selection_sort_MultipleElements (__main__.Testcases) ... ok\n",
      "test_selection_sort_NoElement (__main__.Testcases) ... ok\n",
      "test_selection_sort_SingleElement (__main__.Testcases) ... ok\n",
      "\n",
      "----------------------------------------------------------------------\n",
      "Ran 3 tests in 0.014s\n",
      "\n",
      "OK\n"
     ]
    },
    {
     "data": {
      "text/plain": [
       "<unittest.main.TestProgram at 0x4eb1b10>"
      ]
     },
     "execution_count": 3,
     "metadata": {},
     "output_type": "execute_result"
    }
   ],
   "source": [
    "unittest.main(argv=[''], verbosity=2, exit=False)"
   ]
  }
 ],
 "metadata": {
  "kernelspec": {
   "display_name": "Python 3",
   "language": "python",
   "name": "python3"
  },
  "language_info": {
   "codemirror_mode": {
    "name": "ipython",
    "version": 3
   },
   "file_extension": ".py",
   "mimetype": "text/x-python",
   "name": "python",
   "nbconvert_exporter": "python",
   "pygments_lexer": "ipython3",
   "version": "3.7.6"
  }
 },
 "nbformat": 4,
 "nbformat_minor": 4
}
