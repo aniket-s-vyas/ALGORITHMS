{
 "cells": [
  {
   "cell_type": "code",
   "execution_count": 1,
   "metadata": {},
   "outputs": [],
   "source": [
    "import unittest\n",
    "\n",
    "class Testcases(unittest.TestCase):\n",
    "\n",
    "    def test_largest_concatenate_number_1(self):\n",
    "        l=[2,3,9]\n",
    "        expected_output= 932\n",
    "        self.assertEqual(largest_concatenate_number(l), expected_output, \"Output Should be {}\".format(expected_output))\n",
    "\n",
    "    def test_largest_concatenate_number_2(self):\n",
    "        l=[6,61,68]\n",
    "        expected_output= 68661\n",
    "        self.assertEqual(largest_concatenate_number(l), expected_output, \"Output Should be {}\".format(expected_output))   \n",
    "        \n",
    "    def test_largest_concatenate_number_3(self):\n",
    "        l=[4,42,46,427,465]\n",
    "        expected_output= 46546442742\n",
    "        self.assertEqual(largest_concatenate_number(l), expected_output, \"Output Should be {}\".format(expected_output))        \n",
    "    \n",
    "    def test_largest_concatenate_number_4(self):\n",
    "        l=[5,52,57,517,532,569,581]\n",
    "        expected_output= 58157569553252517\n",
    "        self.assertEqual(largest_concatenate_number(l), expected_output, \"Output Should be {}\".format(expected_output))\n"
   ]
  },
  {
   "cell_type": "code",
   "execution_count": 2,
   "metadata": {},
   "outputs": [],
   "source": [
    "def compare_numbers(n1 : int,n2 : int) -> bool :\n",
    "    '''\n",
    "    Function to compare two numbers based on largest concatenated number formed by them\n",
    "\n",
    "    :param n1: first input number to compare\n",
    "    :param n2: second input number to compare\n",
    "\n",
    "    :return : bool indicator if first number is greater than or equal to second number\n",
    "    '''\n",
    "\n",
    "    lhs=str(n1)+str(n2)\n",
    "    rhs=str(n2)+str(n1)\n",
    "\n",
    "    return(lhs>=rhs)\n",
    "        "
   ]
  },
  {
   "cell_type": "code",
   "execution_count": 3,
   "metadata": {},
   "outputs": [],
   "source": [
    "def merge_sort_numbers(l : list,\n",
    "                       left_index : int,\n",
    "                       right_index : int,\n",
    "                       func=compare_numbers) -> list :\n",
    "    '''\n",
    "    Function to merge the elements of a list based on custom compare function\n",
    "\n",
    "    :param l: input list of numbers\n",
    "    :param left_index : left sorting index of list\n",
    "    :param right_index : right sorting index of list\n",
    "    :param func: custom compare function that compares two integers\n",
    "\n",
    "    :return : sorted list\n",
    "    '''\n",
    "\n",
    "\n",
    "    def merge(l: list,\n",
    "             left_index : int,\n",
    "             mid_index : int,\n",
    "             right_index : int) -> None:\n",
    "        '''\n",
    "        Merge Function to merge two sorted subarray into single sorted array\n",
    "\n",
    "        :param l: input list of numbers\n",
    "        :param left_index : left sorting index of list\n",
    "        :param mid_index : mid sorting index of list\n",
    "        :param right_index : right sorting index of list\n",
    "\n",
    "        :return: None\n",
    "        '''\n",
    "\n",
    "        n1= mid_index - left_index + 1\n",
    "        n2= right_index - mid_index\n",
    "\n",
    "        left_array = l[left_index:mid_index+1]\n",
    "        right_array = l[mid_index+1:right_index+1]\n",
    "        \n",
    "        i=0\n",
    "        j=0\n",
    "\n",
    "        k=left_index\n",
    "\n",
    "        while i<n1 and j<n2:\n",
    "            if compare_numbers(left_array[i],right_array[j]):\n",
    "                l[k]=left_array[i]\n",
    "                i=i+1\n",
    "\n",
    "            else:\n",
    "                l[k]=right_array[j]\n",
    "                j=j+1\n",
    "            k=k+1\n",
    "\n",
    "        while i<n1:\n",
    "            l[k]=left_array[i]\n",
    "            i=i+1\n",
    "            k=k+1\n",
    "\n",
    "        while j<n2:\n",
    "            l[k]=right_array[j]\n",
    "            j=j+1\n",
    "            k=k+1\n",
    "\n",
    "    if right_index<=left_index:\n",
    "        return l\n",
    "\n",
    "    else:\n",
    "        mid_index= (left_index + right_index)//2\n",
    "        left_sublist= merge_sort_numbers(l,left_index,mid_index,compare_numbers)\n",
    "        right_sublist = merge_sort_numbers(l,mid_index+1,right_index ,compare_numbers)\n",
    "\n",
    "        merge(l, left_index,mid_index ,right_index)"
   ]
  },
  {
   "cell_type": "code",
   "execution_count": 4,
   "metadata": {},
   "outputs": [],
   "source": [
    "def largest_concatenate_number(l: list) -> int:\n",
    "    '''\n",
    "    Function to find the largest concatenated number created from a list of numbers\n",
    "    \n",
    "    :param l: list of input numbers\n",
    "    :return n: \n",
    "    '''\n",
    "    \n",
    "    merge_sort_numbers(l,0,len(l)-1,compare_numbers)\n",
    "    \n",
    "    largest=''\n",
    "    \n",
    "    for item in l:\n",
    "        largest=largest+str(item)\n",
    "    \n",
    "    \n",
    "    return int(largest)"
   ]
  },
  {
   "cell_type": "code",
   "execution_count": 5,
   "metadata": {},
   "outputs": [
    {
     "name": "stderr",
     "output_type": "stream",
     "text": [
      "test_largest_concatenate_number_1 (__main__.Testcases) ... ok\n",
      "test_largest_concatenate_number_2 (__main__.Testcases) ... ok\n",
      "test_largest_concatenate_number_3 (__main__.Testcases) ... ok\n",
      "test_largest_concatenate_number_4 (__main__.Testcases) ... ok\n",
      "\n",
      "----------------------------------------------------------------------\n",
      "Ran 4 tests in 0.018s\n",
      "\n",
      "OK\n"
     ]
    },
    {
     "data": {
      "text/plain": [
       "<unittest.main.TestProgram at 0x59b9ab0>"
      ]
     },
     "execution_count": 5,
     "metadata": {},
     "output_type": "execute_result"
    }
   ],
   "source": [
    "unittest.main(argv=[''], verbosity=2, exit=False)"
   ]
  }
 ],
 "metadata": {
  "kernelspec": {
   "display_name": "Python 3",
   "language": "python",
   "name": "python3"
  },
  "language_info": {
   "codemirror_mode": {
    "name": "ipython",
    "version": 3
   },
   "file_extension": ".py",
   "mimetype": "text/x-python",
   "name": "python",
   "nbconvert_exporter": "python",
   "pygments_lexer": "ipython3",
   "version": "3.7.6"
  }
 },
 "nbformat": 4,
 "nbformat_minor": 4
}
