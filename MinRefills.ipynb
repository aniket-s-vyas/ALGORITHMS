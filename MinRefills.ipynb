{
 "cells": [
  {
   "cell_type": "code",
   "execution_count": 1,
   "metadata": {},
   "outputs": [],
   "source": [
    "import unittest\n",
    "\n",
    "class Testcases(unittest.TestCase):\n",
    "\n",
    "    def test_minrefills_1(self):\n",
    "        x=[0,200,375,500,750,950]\n",
    "        n=4\n",
    "        l=400\n",
    "        expected_output= 2\n",
    "        self.assertEqual(minrefills(x,n,l), expected_output, \"Output Should be {}\".format(expected_output))\n",
    "\n",
    "    def test_minrefills_2(self):\n",
    "        x=[0,2,3,4,6]\n",
    "        n=3\n",
    "        l=3\n",
    "        expected_output= 1\n",
    "        self.assertEqual(minrefills(x,n,l), expected_output, \"Output Should be {}\".format(expected_output))\n",
    "\n",
    "    def test_minrefills_3(self):\n",
    "        x=[0,1,2,6,7]\n",
    "        n=4\n",
    "        l=3\n",
    "\n",
    "        expected_output= 'Exception'\n",
    "        self.assertRaises(Exception,minrefills,x,n,l)\n",
    "                    \n",
    "    def test_minrefills_4(self):\n",
    "        x=[0,1,2,4,5,6,7,8,10,11,12]\n",
    "        n=9\n",
    "        l=3\n",
    "        expected_output= 4\n",
    "        self.assertEqual(minrefills(x,n,l), expected_output, \"Output Should be {}\".format(expected_output))\n",
    "\n",
    "    def test_minrefills_5(self):\n",
    "        x=[0,1,2,4,5,8,9,10,11,12]\n",
    "        n=8\n",
    "        l=3\n",
    "        expected_output= 4\n",
    "        self.assertEqual(minrefills(x,n,l), expected_output, \"Output Should be {}\".format(expected_output))\n",
    "        \n",
    "\n",
    "    def test_minrefills_6(self):\n",
    "        x=[0,200,375,500,750,1500]\n",
    "        n=4\n",
    "        l=400\n",
    "        expected_output= 'Exception'\n",
    "        self.assertRaises(Exception,minrefills,x,n,l)        \n",
    "        "
   ]
  },
  {
   "cell_type": "code",
   "execution_count": 2,
   "metadata": {},
   "outputs": [],
   "source": [
    "def minrefills(refill_points_distance : list,\n",
    "               refill_points: int,\n",
    "               capacity: float) -> int :\n",
    "    '''\n",
    "    Funtion to calculate the minimum number of refills required to reach from point A to point B\n",
    "    for a car with limited tank capacity starting with full tank\n",
    "    \n",
    "    :param refill_points_distance : distance of refill points from start including start and destination points\n",
    "    :param refill_points : number of refill points between start and destination\n",
    "    :param capacity : maximum distance that can be travelled by car with full tank\n",
    "    \n",
    "    :return no_of_refill : minimum number of refills required travel from start to destination\n",
    "    '''\n",
    "    \n",
    "    current_position = 0\n",
    "    no_of_refill = 0\n",
    "    destination_position = refill_points+1\n",
    "    \n",
    "    while current_position != destination_position :\n",
    "        last_refill_position=current_position\n",
    "        \n",
    "        while ((current_position<=refill_points) and\n",
    "               (refill_points_distance[current_position+1]-refill_points_distance[last_refill_position]<=capacity)):\n",
    "            current_position=current_position+1\n",
    "        \n",
    "        if current_position==last_refill_position:\n",
    "            raise Exception(\"Not possible to reach destination\")\n",
    "        \n",
    "        if current_position != destination_position:\n",
    "            no_of_refill=no_of_refill+1\n",
    "        \n",
    "    return no_of_refill"
   ]
  },
  {
   "cell_type": "code",
   "execution_count": 3,
   "metadata": {},
   "outputs": [
    {
     "name": "stderr",
     "output_type": "stream",
     "text": [
      "test_minrefills_1 (__main__.Testcases) ... ok\n",
      "test_minrefills_2 (__main__.Testcases) ... ok\n",
      "test_minrefills_3 (__main__.Testcases) ... ok\n",
      "test_minrefills_4 (__main__.Testcases) ... ok\n",
      "test_minrefills_5 (__main__.Testcases) ... ok\n",
      "test_minrefills_6 (__main__.Testcases) ... ok\n",
      "\n",
      "----------------------------------------------------------------------\n",
      "Ran 6 tests in 0.019s\n",
      "\n",
      "OK\n"
     ]
    },
    {
     "data": {
      "text/plain": [
       "<unittest.main.TestProgram at 0x59019b0>"
      ]
     },
     "execution_count": 3,
     "metadata": {},
     "output_type": "execute_result"
    }
   ],
   "source": [
    "unittest.main(argv=[''], verbosity=2, exit=False)"
   ]
  }
 ],
 "metadata": {
  "kernelspec": {
   "display_name": "Python 3",
   "language": "python",
   "name": "python3"
  },
  "language_info": {
   "codemirror_mode": {
    "name": "ipython",
    "version": 3
   },
   "file_extension": ".py",
   "mimetype": "text/x-python",
   "name": "python",
   "nbconvert_exporter": "python",
   "pygments_lexer": "ipython3",
   "version": "3.7.6"
  }
 },
 "nbformat": 4,
 "nbformat_minor": 4
}
