{
 "cells": [
  {
   "cell_type": "code",
   "execution_count": 52,
   "metadata": {},
   "outputs": [],
   "source": [
    "import unittest\n",
    "\n",
    "class Testcases(unittest.TestCase):\n",
    "\n",
    "    def test_fractional_knapsack_1(self):\n",
    "        '''\n",
    "        \n",
    "        '''\n",
    "        calorie_content=[20,18,14]\n",
    "        weight=[4,3,2]\n",
    "        capacity=7\n",
    "        \n",
    "        expected_output= 42\n",
    "        self.assertEqual(fractional_knapsack(calorie_content,weight,capacity), expected_output, \"Output Should be {}\".format(expected_output))\n"
   ]
  },
  {
   "cell_type": "code",
   "execution_count": 53,
   "metadata": {},
   "outputs": [],
   "source": [
    "def merge_sort(input_array,sorting_value_array):\n",
    "    '''\n",
    "    Function to sort array based on the values in anoter corresponding array\n",
    "    :param input_array : array whose values are to be sorted\n",
    "    :param sorting_value_array : array based on whom the values of input array are to be sorted\n",
    "    \n",
    "    :return : sorted array\n",
    "    '''\n",
    "    size_of_input=len(input_array)\n",
    "    \n",
    "    if size_of_input > 1:\n",
    "        mid_point = size_of_input//2\n",
    "        left_array= input_array[:mid_point]\n",
    "        left_sorting_value_array = sorting_value_array[:mid_point]\n",
    "        \n",
    "        right_array= input_array[mid_point:]\n",
    "        right_sorting_value_array= sorting_value_array[mid_point:]\n",
    "        \n",
    "        merge_sort(left_array,left_sorting_value_array)\n",
    "        merge_sort(right_array,right_sorting_value_array)\n",
    "        \n",
    "        i=j=k=0\n",
    "        \n",
    "        while(i<len(left_array) and\n",
    "             j<len(right_array)):\n",
    "            \n",
    "            if left_sorting_value_array[i]> right_sorting_value_array[j]:\n",
    "                input_array[k]=left_array[i]\n",
    "                sorting_value_array[k] = left_sorting_value_array[i]\n",
    "                i=i+1    \n",
    "            else:\n",
    "                input_array[k] = right_array[j]\n",
    "                sorting_value_array[k] = right_sorting_value_array[j]\n",
    "                \n",
    "                j=j+1    \n",
    "            \n",
    "            k=k+1\n",
    "            \n",
    "        while i<len(left_array):\n",
    "            input_array[k]=left_array[i]\n",
    "            sorting_value_array[k] = left_sorting_value_array[i]\n",
    "            \n",
    "            k=k+1\n",
    "            i=i+1\n",
    "            \n",
    "        while j<len(right_array):\n",
    "            input_array[k] = right_array[j]\n",
    "            sorting_value_array[k] = right_sorting_value_array[j]\n",
    "            j=j+1\n",
    "            k=k+1"
   ]
  },
  {
   "cell_type": "code",
   "execution_count": 54,
   "metadata": {},
   "outputs": [],
   "source": [
    "def fractional_knapsack(calorie_content: list(),\n",
    "                        weight: list(),\n",
    "                        capacity: float) -> float :\n",
    "    '''\n",
    "    Function to find the maximum calorie value that can be added in an empty knapsack of certain capacity\n",
    "    \n",
    "    :param calorie_content : vector of the total calorie content of the food item\n",
    "    :param weight : vector of the weight of each food item\n",
    "    :param capacity : total capacity of knapsack\n",
    "    \n",
    "    :return : maximum total calorie content that can be added to knapsack \n",
    "    '''\n",
    "    \n",
    "    if len(calorie_content)!=len(weight):\n",
    "        raise  Exception('Invalid input. No of elements in calorie_content and weight must be equal')\n",
    "    \n",
    "    no_of_items_available=len(calorie_content)\n",
    "    \n",
    "    calories_per_unit_weight=[]\n",
    "    \n",
    "    for i in range(no_of_items_available):\n",
    "                calories_per_unit_weight.append(calorie_content[i]/weight[i])\n",
    "    \n",
    "    calories_per_unit_weight_copy=calories_per_unit_weight.copy()\n",
    "    #sort weights according to calorie_content\n",
    "    merge_sort(weight,calories_per_unit_weight)\n",
    "    merge_sort(calorie_content,calories_per_unit_weight_copy)\n",
    "    \n",
    "    max_value_in_knapsack=0\n",
    "    \n",
    "    i=0\n",
    "    \n",
    "    while capacity!=0:\n",
    "        \n",
    "        weight_of_current_item_taken=min(weight[i],capacity)\n",
    "        max_value_in_knapsack=max_value_in_knapsack+ (calorie_content[i]/weight[i])*weight_of_current_item_taken\n",
    "        \n",
    "        i=i+1\n",
    "        capacity=capacity-weight_of_current_item_taken\n",
    "        \n",
    "    return max_value_in_knapsack\n",
    "    "
   ]
  },
  {
   "cell_type": "code",
   "execution_count": 55,
   "metadata": {},
   "outputs": [
    {
     "name": "stderr",
     "output_type": "stream",
     "text": [
      "test_fractional_knapsack_1 (__main__.Testcases) ... ok\n",
      "\n",
      "----------------------------------------------------------------------\n",
      "Ran 1 test in 0.002s\n",
      "\n",
      "OK\n"
     ]
    },
    {
     "data": {
      "text/plain": [
       "<unittest.main.TestProgram at 0x651ab10>"
      ]
     },
     "execution_count": 55,
     "metadata": {},
     "output_type": "execute_result"
    }
   ],
   "source": [
    "unittest.main(argv=[''], verbosity=2, exit=False)"
   ]
  }
 ],
 "metadata": {
  "kernelspec": {
   "display_name": "Python 3",
   "language": "python",
   "name": "python3"
  },
  "language_info": {
   "codemirror_mode": {
    "name": "ipython",
    "version": 3
   },
   "file_extension": ".py",
   "mimetype": "text/x-python",
   "name": "python",
   "nbconvert_exporter": "python",
   "pygments_lexer": "ipython3",
   "version": "3.7.6"
  }
 },
 "nbformat": 4,
 "nbformat_minor": 4
}
